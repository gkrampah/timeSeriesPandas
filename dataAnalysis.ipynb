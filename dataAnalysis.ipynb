{
 "cells": [
  {
   "cell_type": "code",
   "execution_count": 1,
   "metadata": {},
   "outputs": [],
   "source": [
    "import numpy as np  \n",
    "import pandas as pd\n",
    "from datetime import datetime"
   ]
  },
  {
   "cell_type": "code",
   "execution_count": 3,
   "metadata": {},
   "outputs": [
    {
     "data": {
      "text/plain": [
       "DatetimeIndex(['2018-01-01', '2018-01-01', '2018-01-01'], dtype='datetime64[ns]', freq=None)"
      ]
     },
     "execution_count": 3,
     "metadata": {},
     "output_type": "execute_result"
    }
   ],
   "source": [
    "#Parsing dates from a variety of formats using Pandas. Uses NumPy datetime64 and timedelta64 dtypes\n",
    "dti = pd.to_datetime([\"1/1/2018\", np.datetime64(\"2018-01-01\"), datetime(2018, 1, 1)])\n",
    "dti"
   ]
  },
  {
   "cell_type": "code",
   "execution_count": 7,
   "metadata": {},
   "outputs": [
    {
     "data": {
      "text/plain": [
       "DatetimeIndex(['2018-01-01 00:00:00', '2018-01-01 01:00:00',\n",
       "               '2018-01-01 02:00:00'],\n",
       "              dtype='datetime64[ns]', freq='H')"
      ]
     },
     "execution_count": 7,
     "metadata": {},
     "output_type": "execute_result"
    }
   ],
   "source": [
    "#Create a range of dates\n",
    "dti = pd.date_range(\"2018-01-01\", periods=3, freq=\"H\") #H = hourly frequency, periods = number of periods to generate\n",
    "dti"
   ]
  },
  {
   "cell_type": "code",
   "execution_count": 26,
   "metadata": {},
   "outputs": [
    {
     "data": {
      "text/plain": [
       "2000-01-01    0\n",
       "2000-01-02    1\n",
       "2000-01-03    2\n",
       "Freq: D, dtype: int64"
      ]
     },
     "execution_count": 26,
     "metadata": {},
     "output_type": "execute_result"
    }
   ],
   "source": [
    "# For time series data, it’s conventional to represent the time component in the index of a Series or DataFrame so manipulations can be performed with respect to the time element.\n",
    "# Create a Series with time as the index\n",
    "pd.Series(range(3), index=pd.date_range(\"2000\", freq=\"D\", periods=3))"
   ]
  },
  {
   "cell_type": "code",
   "execution_count": null,
   "metadata": {},
   "outputs": [],
   "source": []
  },
  {
   "cell_type": "code",
   "execution_count": 8,
   "metadata": {},
   "outputs": [
    {
     "data": {
      "text/plain": [
       "DatetimeIndex(['2018-01-01 00:00:00+00:00', '2018-01-01 01:00:00+00:00',\n",
       "               '2018-01-01 02:00:00+00:00'],\n",
       "              dtype='datetime64[ns, UTC]', freq='H')"
      ]
     },
     "execution_count": 8,
     "metadata": {},
     "output_type": "execute_result"
    }
   ],
   "source": [
    "#Convert to a different time zone\n",
    "dti = dti.tz_localize(\"UTC\")\n",
    "dti"
   ]
  },
  {
   "cell_type": "code",
   "execution_count": 9,
   "metadata": {},
   "outputs": [
    {
     "data": {
      "text/plain": [
       "DatetimeIndex(['2017-12-31 16:00:00-08:00', '2017-12-31 17:00:00-08:00',\n",
       "               '2017-12-31 18:00:00-08:00'],\n",
       "              dtype='datetime64[ns, US/Pacific]', freq='H')"
      ]
     },
     "execution_count": 9,
     "metadata": {},
     "output_type": "execute_result"
    }
   ],
   "source": [
    "dti.tz_convert(\"US/Pacific\") #Convert to a different time zone"
   ]
  },
  {
   "cell_type": "code",
   "execution_count": 13,
   "metadata": {},
   "outputs": [
    {
     "data": {
      "text/plain": [
       "2018-01-01 00:00:00    0\n",
       "2018-01-01 01:00:00    1\n",
       "2018-01-01 02:00:00    2\n",
       "2018-01-01 03:00:00    3\n",
       "2018-01-01 04:00:00    4\n",
       "2018-01-01 05:00:00    5\n",
       "Freq: H, dtype: int64"
      ]
     },
     "execution_count": 13,
     "metadata": {},
     "output_type": "execute_result"
    }
   ],
   "source": [
    "idx = pd.date_range(\"2018-01-01\", periods=6, freq=\"H\")\n",
    "\n",
    "ts = pd.Series(range(len(idx)), index=idx)\n",
    "ts"
   ]
  },
  {
   "cell_type": "code",
   "execution_count": 14,
   "metadata": {},
   "outputs": [
    {
     "data": {
      "text/plain": [
       "2018-01-01 00:00:00    0.5\n",
       "2018-01-01 02:00:00    2.5\n",
       "2018-01-01 04:00:00    4.5\n",
       "Freq: 2H, dtype: float64"
      ]
     },
     "execution_count": 14,
     "metadata": {},
     "output_type": "execute_result"
    }
   ],
   "source": [
    "ts.resample(\"2H\").mean() #resample() is a time-based groupby, followed by a reduction method on each of its groups"
   ]
  },
  {
   "cell_type": "code",
   "execution_count": 20,
   "metadata": {},
   "outputs": [
    {
     "data": {
      "text/plain": [
       "'Thursday'"
      ]
     },
     "execution_count": 20,
     "metadata": {},
     "output_type": "execute_result"
    }
   ],
   "source": [
    "day = pd.Timestamp(\"2023-10-19\")\n",
    "day.day_name() #returns day of the week on a timestamp"
   ]
  },
  {
   "cell_type": "code",
   "execution_count": 21,
   "metadata": {},
   "outputs": [
    {
     "data": {
      "text/plain": [
       "'Friday'"
      ]
     },
     "execution_count": 21,
     "metadata": {},
     "output_type": "execute_result"
    }
   ],
   "source": [
    "day+=pd.Timedelta(\"1 day\") #add a day to a timestamp\n",
    "day.day_name()"
   ]
  },
  {
   "cell_type": "code",
   "execution_count": 22,
   "metadata": {},
   "outputs": [
    {
     "name": "stdout",
     "output_type": "stream",
     "text": [
      "Help on class BusinessDay in module pandas._libs.tslibs.offsets:\n",
      "\n",
      "class BusinessDay(BusinessMixin)\n",
      " |  DateOffset subclass representing possibly n business days.\n",
      " |  \n",
      " |  Method resolution order:\n",
      " |      BusinessDay\n",
      " |      BusinessMixin\n",
      " |      SingleConstructorOffset\n",
      " |      BaseOffset\n",
      " |      builtins.object\n",
      " |  \n",
      " |  Methods defined here:\n",
      " |  \n",
      " |  __setstate__(...)\n",
      " |      Reconstruct an instance from a pickled state\n",
      " |  \n",
      " |  apply_index = wrapper(self, other)\n",
      " |  \n",
      " |  is_on_offset(...)\n",
      " |  \n",
      " |  ----------------------------------------------------------------------\n",
      " |  Static methods defined here:\n",
      " |  \n",
      " |  __new__(*args, **kwargs) from builtins.type\n",
      " |      Create and return a new object.  See help(type) for accurate signature.\n",
      " |  \n",
      " |  ----------------------------------------------------------------------\n",
      " |  Data and other attributes defined here:\n",
      " |  \n",
      " |  __pyx_vtable__ = <capsule object NULL>\n",
      " |  \n",
      " |  ----------------------------------------------------------------------\n",
      " |  Methods inherited from BusinessMixin:\n",
      " |  \n",
      " |  __init__(self, /, *args, **kwargs)\n",
      " |      Initialize self.  See help(type(self)) for accurate signature.\n",
      " |  \n",
      " |  ----------------------------------------------------------------------\n",
      " |  Data descriptors inherited from BusinessMixin:\n",
      " |  \n",
      " |  calendar\n",
      " |  \n",
      " |  holidays\n",
      " |  \n",
      " |  offset\n",
      " |      Alias for self._offset.\n",
      " |  \n",
      " |  weekmask\n",
      " |  \n",
      " |  ----------------------------------------------------------------------\n",
      " |  Methods inherited from SingleConstructorOffset:\n",
      " |  \n",
      " |  __reduce__(...)\n",
      " |      Helper for pickle.\n",
      " |  \n",
      " |  ----------------------------------------------------------------------\n",
      " |  Methods inherited from BaseOffset:\n",
      " |  \n",
      " |  __add__(self, value, /)\n",
      " |      Return self+value.\n",
      " |  \n",
      " |  __call__(self, /, *args, **kwargs)\n",
      " |      Call self as a function.\n",
      " |  \n",
      " |  __eq__(self, value, /)\n",
      " |      Return self==value.\n",
      " |  \n",
      " |  __ge__(self, value, /)\n",
      " |      Return self>=value.\n",
      " |  \n",
      " |  __getstate__(...)\n",
      " |      Return a pickleable state\n",
      " |  \n",
      " |  __gt__(self, value, /)\n",
      " |      Return self>value.\n",
      " |  \n",
      " |  __hash__(self, /)\n",
      " |      Return hash(self).\n",
      " |  \n",
      " |  __le__(self, value, /)\n",
      " |      Return self<=value.\n",
      " |  \n",
      " |  __lt__(self, value, /)\n",
      " |      Return self<value.\n",
      " |  \n",
      " |  __mul__(self, value, /)\n",
      " |      Return self*value.\n",
      " |  \n",
      " |  __ne__(self, value, /)\n",
      " |      Return self!=value.\n",
      " |  \n",
      " |  __neg__(self, /)\n",
      " |      -self\n",
      " |  \n",
      " |  __radd__(self, value, /)\n",
      " |      Return value+self.\n",
      " |  \n",
      " |  __reduce_cython__(...)\n",
      " |  \n",
      " |  __repr__(self, /)\n",
      " |      Return repr(self).\n",
      " |  \n",
      " |  __rmul__(self, value, /)\n",
      " |      Return value*self.\n",
      " |  \n",
      " |  __rsub__(self, value, /)\n",
      " |      Return value-self.\n",
      " |  \n",
      " |  __setstate_cython__(...)\n",
      " |  \n",
      " |  __sub__(self, value, /)\n",
      " |      Return self-value.\n",
      " |  \n",
      " |  apply(...)\n",
      " |  \n",
      " |  copy(...)\n",
      " |  \n",
      " |  isAnchored(...)\n",
      " |  \n",
      " |  is_anchored(...)\n",
      " |  \n",
      " |  is_month_end(...)\n",
      " |  \n",
      " |  is_month_start(...)\n",
      " |  \n",
      " |  is_quarter_end(...)\n",
      " |  \n",
      " |  is_quarter_start(...)\n",
      " |  \n",
      " |  is_year_end(...)\n",
      " |  \n",
      " |  is_year_start(...)\n",
      " |  \n",
      " |  onOffset(...)\n",
      " |  \n",
      " |  rollback(...)\n",
      " |      Roll provided date backward to next offset only if not on offset.\n",
      " |      \n",
      " |      Returns\n",
      " |      -------\n",
      " |      TimeStamp\n",
      " |          Rolled timestamp if not on offset, otherwise unchanged timestamp.\n",
      " |  \n",
      " |  rollforward(...)\n",
      " |      Roll provided date forward to next offset only if not on offset.\n",
      " |      \n",
      " |      Returns\n",
      " |      -------\n",
      " |      TimeStamp\n",
      " |          Rolled timestamp if not on offset, otherwise unchanged timestamp.\n",
      " |  \n",
      " |  ----------------------------------------------------------------------\n",
      " |  Data descriptors inherited from BaseOffset:\n",
      " |  \n",
      " |  base\n",
      " |      Returns a copy of the calling offset object with n=1 and all other\n",
      " |      attributes equal.\n",
      " |  \n",
      " |  freqstr\n",
      " |  \n",
      " |  kwds\n",
      " |  \n",
      " |  n\n",
      " |  \n",
      " |  name\n",
      " |  \n",
      " |  nanos\n",
      " |  \n",
      " |  normalize\n",
      " |  \n",
      " |  rule_code\n",
      " |  \n",
      " |  ----------------------------------------------------------------------\n",
      " |  Data and other attributes inherited from BaseOffset:\n",
      " |  \n",
      " |  __array_priority__ = 1000\n",
      "\n"
     ]
    }
   ],
   "source": [
    "help(pd.offsets.BDay) #help on Timestamp"
   ]
  },
  {
   "cell_type": "code",
   "execution_count": 25,
   "metadata": {},
   "outputs": [
    {
     "data": {
      "text/plain": [
       "Timestamp('2023-10-23 00:00:00')"
      ]
     },
     "execution_count": 25,
     "metadata": {},
     "output_type": "execute_result"
    }
   ],
   "source": [
    "day+pd.offsets.BDay()"
   ]
  },
  {
   "cell_type": "code",
   "execution_count": null,
   "metadata": {},
   "outputs": [],
   "source": []
  },
  {
   "cell_type": "code",
   "execution_count": 2,
   "metadata": {},
   "outputs": [
    {
     "data": {
      "text/plain": [
       "Timestamp('2017-01-01 00:00:00')"
      ]
     },
     "execution_count": 2,
     "metadata": {},
     "output_type": "execute_result"
    }
   ],
   "source": [
    "time_stamp = pd.Timestamp(datetime(2017, 1, 1))\n",
    "time_stamp"
   ]
  },
  {
   "cell_type": "code",
   "execution_count": null,
   "metadata": {},
   "outputs": [],
   "source": []
  }
 ],
 "metadata": {
  "kernelspec": {
   "display_name": "Python 3",
   "language": "python",
   "name": "python3"
  },
  "language_info": {
   "codemirror_mode": {
    "name": "ipython",
    "version": 3
   },
   "file_extension": ".py",
   "mimetype": "text/x-python",
   "name": "python",
   "nbconvert_exporter": "python",
   "pygments_lexer": "ipython3",
   "version": "3.9.13"
  }
 },
 "nbformat": 4,
 "nbformat_minor": 2
}
