{
 "cells": [
  {
   "cell_type": "code",
   "execution_count": 1,
   "metadata": {},
   "outputs": [],
   "source": [
    "import numpy as np  \n",
    "import pandas as pd\n",
    "from datetime import datetime"
   ]
  },
  {
   "cell_type": "code",
   "execution_count": 6,
   "metadata": {},
   "outputs": [
    {
     "data": {
      "text/plain": [
       "Timedelta('120 days 00:00:00')"
      ]
     },
     "execution_count": 6,
     "metadata": {},
     "output_type": "execute_result"
    }
   ],
   "source": [
    "#Parsing dates from a variety of formats using Pandas. Uses NumPy datetime64 and timedelta64 dtypes\n",
    "dti = pd.to_datetime([\"1/1/2022\", np.datetime64(\"2022-05-01\"), datetime(2018, 1, 1)])\n",
    "dti[1]-dti[0]"
   ]
  },
  {
   "cell_type": "code",
   "execution_count": 7,
   "metadata": {},
   "outputs": [
    {
     "data": {
      "text/plain": [
       "DatetimeIndex(['2018-01-01 00:00:00', '2018-01-01 01:00:00',\n",
       "               '2018-01-01 02:00:00'],\n",
       "              dtype='datetime64[ns]', freq='H')"
      ]
     },
     "execution_count": 7,
     "metadata": {},
     "output_type": "execute_result"
    }
   ],
   "source": [
    "#Create a range of dates\n",
    "dti = pd.date_range(\"2018-01-01\", periods=3, freq=\"H\") #H = hourly frequency, periods = number of periods to generate\n",
    "dti"
   ]
  },
  {
   "cell_type": "code",
   "execution_count": 26,
   "metadata": {},
   "outputs": [
    {
     "data": {
      "text/plain": [
       "2000-01-01    0\n",
       "2000-01-02    1\n",
       "2000-01-03    2\n",
       "Freq: D, dtype: int64"
      ]
     },
     "execution_count": 26,
     "metadata": {},
     "output_type": "execute_result"
    }
   ],
   "source": [
    "# For time series data, it’s conventional to represent the time component in the index of a Series or DataFrame so manipulations can be performed with respect to the time element.\n",
    "# Create a Series with time as the index\n",
    "pd.Series(range(3), index=pd.date_range(\"2000\", freq=\"D\", periods=3))"
   ]
  },
  {
   "cell_type": "code",
   "execution_count": 33,
   "metadata": {},
   "outputs": [
    {
     "data": {
      "text/plain": [
       "(0   2000-01-01\n",
       " 1   2000-01-02\n",
       " 2   2000-01-03\n",
       " dtype: datetime64[ns],\n",
       " 0    1\n",
       " 1    2\n",
       " 2    3\n",
       " dtype: int64)"
      ]
     },
     "execution_count": 33,
     "metadata": {},
     "output_type": "execute_result"
    }
   ],
   "source": [
    "pd.Series(pd.date_range(\"2000\", freq=\"D\", periods=3)), pd.Series(pd.date_range(\"2000\", freq=\"D\", periods=3)).dt.day"
   ]
  },
  {
   "cell_type": "code",
   "execution_count": 34,
   "metadata": {},
   "outputs": [
    {
     "data": {
      "text/plain": [
       "(0    2011-01\n",
       " 1    2011-02\n",
       " 2    2011-03\n",
       " dtype: period[M],\n",
       " 0   2000-01-31\n",
       " 1   2000-02-29\n",
       " 2   2000-03-31\n",
       " dtype: datetime64[ns])"
      ]
     },
     "execution_count": 34,
     "metadata": {},
     "output_type": "execute_result"
    }
   ],
   "source": [
    "pd.Series(pd.period_range(\"1/1/2011\", freq=\"M\", periods=3)), pd.Series(pd.date_range(\"2000\", freq=\"M\", periods=3))"
   ]
  },
  {
   "cell_type": "code",
   "execution_count": 8,
   "metadata": {},
   "outputs": [
    {
     "data": {
      "text/plain": [
       "DatetimeIndex(['2018-01-01 00:00:00+00:00', '2018-01-01 01:00:00+00:00',\n",
       "               '2018-01-01 02:00:00+00:00'],\n",
       "              dtype='datetime64[ns, UTC]', freq='H')"
      ]
     },
     "execution_count": 8,
     "metadata": {},
     "output_type": "execute_result"
    }
   ],
   "source": [
    "#Convert to a different time zone\n",
    "dti = dti.tz_localize(\"UTC\")\n",
    "dti"
   ]
  },
  {
   "cell_type": "code",
   "execution_count": 9,
   "metadata": {},
   "outputs": [
    {
     "data": {
      "text/plain": [
       "DatetimeIndex(['2017-12-31 16:00:00-08:00', '2017-12-31 17:00:00-08:00',\n",
       "               '2017-12-31 18:00:00-08:00'],\n",
       "              dtype='datetime64[ns, US/Pacific]', freq='H')"
      ]
     },
     "execution_count": 9,
     "metadata": {},
     "output_type": "execute_result"
    }
   ],
   "source": [
    "dti.tz_convert(\"US/Pacific\") #Convert to a different time zone"
   ]
  },
  {
   "cell_type": "code",
   "execution_count": 13,
   "metadata": {},
   "outputs": [
    {
     "data": {
      "text/plain": [
       "2018-01-01 00:00:00    0\n",
       "2018-01-01 01:00:00    1\n",
       "2018-01-01 02:00:00    2\n",
       "2018-01-01 03:00:00    3\n",
       "2018-01-01 04:00:00    4\n",
       "2018-01-01 05:00:00    5\n",
       "Freq: H, dtype: int64"
      ]
     },
     "execution_count": 13,
     "metadata": {},
     "output_type": "execute_result"
    }
   ],
   "source": [
    "idx = pd.date_range(\"2018-01-01\", periods=6, freq=\"H\")\n",
    "\n",
    "ts = pd.Series(range(len(idx)), index=idx)\n",
    "ts"
   ]
  },
  {
   "cell_type": "code",
   "execution_count": 14,
   "metadata": {},
   "outputs": [
    {
     "data": {
      "text/plain": [
       "2018-01-01 00:00:00    0.5\n",
       "2018-01-01 02:00:00    2.5\n",
       "2018-01-01 04:00:00    4.5\n",
       "Freq: 2H, dtype: float64"
      ]
     },
     "execution_count": 14,
     "metadata": {},
     "output_type": "execute_result"
    }
   ],
   "source": [
    "ts.resample(\"2H\").mean() #resample() is a time-based groupby, followed by a reduction method on each of its groups"
   ]
  },
  {
   "cell_type": "code",
   "execution_count": 20,
   "metadata": {},
   "outputs": [
    {
     "data": {
      "text/plain": [
       "'Thursday'"
      ]
     },
     "execution_count": 20,
     "metadata": {},
     "output_type": "execute_result"
    }
   ],
   "source": [
    "day = pd.Timestamp(\"2023-10-19\")\n",
    "day.day_name() #returns day of the week on a timestamp"
   ]
  },
  {
   "cell_type": "code",
   "execution_count": 21,
   "metadata": {},
   "outputs": [
    {
     "data": {
      "text/plain": [
       "'Friday'"
      ]
     },
     "execution_count": 21,
     "metadata": {},
     "output_type": "execute_result"
    }
   ],
   "source": [
    "day+=pd.Timedelta(\"1 day\") #add a day to a timestamp\n",
    "day.day_name()"
   ]
  },
  {
   "cell_type": "code",
   "execution_count": 22,
   "metadata": {},
   "outputs": [
    {
     "name": "stdout",
     "output_type": "stream",
     "text": [
      "Help on class BusinessDay in module pandas._libs.tslibs.offsets:\n",
      "\n",
      "class BusinessDay(BusinessMixin)\n",
      " |  DateOffset subclass representing possibly n business days.\n",
      " |  \n",
      " |  Method resolution order:\n",
      " |      BusinessDay\n",
      " |      BusinessMixin\n",
      " |      SingleConstructorOffset\n",
      " |      BaseOffset\n",
      " |      builtins.object\n",
      " |  \n",
      " |  Methods defined here:\n",
      " |  \n",
      " |  __setstate__(...)\n",
      " |      Reconstruct an instance from a pickled state\n",
      " |  \n",
      " |  apply_index = wrapper(self, other)\n",
      " |  \n",
      " |  is_on_offset(...)\n",
      " |  \n",
      " |  ----------------------------------------------------------------------\n",
      " |  Static methods defined here:\n",
      " |  \n",
      " |  __new__(*args, **kwargs) from builtins.type\n",
      " |      Create and return a new object.  See help(type) for accurate signature.\n",
      " |  \n",
      " |  ----------------------------------------------------------------------\n",
      " |  Data and other attributes defined here:\n",
      " |  \n",
      " |  __pyx_vtable__ = <capsule object NULL>\n",
      " |  \n",
      " |  ----------------------------------------------------------------------\n",
      " |  Methods inherited from BusinessMixin:\n",
      " |  \n",
      " |  __init__(self, /, *args, **kwargs)\n",
      " |      Initialize self.  See help(type(self)) for accurate signature.\n",
      " |  \n",
      " |  ----------------------------------------------------------------------\n",
      " |  Data descriptors inherited from BusinessMixin:\n",
      " |  \n",
      " |  calendar\n",
      " |  \n",
      " |  holidays\n",
      " |  \n",
      " |  offset\n",
      " |      Alias for self._offset.\n",
      " |  \n",
      " |  weekmask\n",
      " |  \n",
      " |  ----------------------------------------------------------------------\n",
      " |  Methods inherited from SingleConstructorOffset:\n",
      " |  \n",
      " |  __reduce__(...)\n",
      " |      Helper for pickle.\n",
      " |  \n",
      " |  ----------------------------------------------------------------------\n",
      " |  Methods inherited from BaseOffset:\n",
      " |  \n",
      " |  __add__(self, value, /)\n",
      " |      Return self+value.\n",
      " |  \n",
      " |  __call__(self, /, *args, **kwargs)\n",
      " |      Call self as a function.\n",
      " |  \n",
      " |  __eq__(self, value, /)\n",
      " |      Return self==value.\n",
      " |  \n",
      " |  __ge__(self, value, /)\n",
      " |      Return self>=value.\n",
      " |  \n",
      " |  __getstate__(...)\n",
      " |      Return a pickleable state\n",
      " |  \n",
      " |  __gt__(self, value, /)\n",
      " |      Return self>value.\n",
      " |  \n",
      " |  __hash__(self, /)\n",
      " |      Return hash(self).\n",
      " |  \n",
      " |  __le__(self, value, /)\n",
      " |      Return self<=value.\n",
      " |  \n",
      " |  __lt__(self, value, /)\n",
      " |      Return self<value.\n",
      " |  \n",
      " |  __mul__(self, value, /)\n",
      " |      Return self*value.\n",
      " |  \n",
      " |  __ne__(self, value, /)\n",
      " |      Return self!=value.\n",
      " |  \n",
      " |  __neg__(self, /)\n",
      " |      -self\n",
      " |  \n",
      " |  __radd__(self, value, /)\n",
      " |      Return value+self.\n",
      " |  \n",
      " |  __reduce_cython__(...)\n",
      " |  \n",
      " |  __repr__(self, /)\n",
      " |      Return repr(self).\n",
      " |  \n",
      " |  __rmul__(self, value, /)\n",
      " |      Return value*self.\n",
      " |  \n",
      " |  __rsub__(self, value, /)\n",
      " |      Return value-self.\n",
      " |  \n",
      " |  __setstate_cython__(...)\n",
      " |  \n",
      " |  __sub__(self, value, /)\n",
      " |      Return self-value.\n",
      " |  \n",
      " |  apply(...)\n",
      " |  \n",
      " |  copy(...)\n",
      " |  \n",
      " |  isAnchored(...)\n",
      " |  \n",
      " |  is_anchored(...)\n",
      " |  \n",
      " |  is_month_end(...)\n",
      " |  \n",
      " |  is_month_start(...)\n",
      " |  \n",
      " |  is_quarter_end(...)\n",
      " |  \n",
      " |  is_quarter_start(...)\n",
      " |  \n",
      " |  is_year_end(...)\n",
      " |  \n",
      " |  is_year_start(...)\n",
      " |  \n",
      " |  onOffset(...)\n",
      " |  \n",
      " |  rollback(...)\n",
      " |      Roll provided date backward to next offset only if not on offset.\n",
      " |      \n",
      " |      Returns\n",
      " |      -------\n",
      " |      TimeStamp\n",
      " |          Rolled timestamp if not on offset, otherwise unchanged timestamp.\n",
      " |  \n",
      " |  rollforward(...)\n",
      " |      Roll provided date forward to next offset only if not on offset.\n",
      " |      \n",
      " |      Returns\n",
      " |      -------\n",
      " |      TimeStamp\n",
      " |          Rolled timestamp if not on offset, otherwise unchanged timestamp.\n",
      " |  \n",
      " |  ----------------------------------------------------------------------\n",
      " |  Data descriptors inherited from BaseOffset:\n",
      " |  \n",
      " |  base\n",
      " |      Returns a copy of the calling offset object with n=1 and all other\n",
      " |      attributes equal.\n",
      " |  \n",
      " |  freqstr\n",
      " |  \n",
      " |  kwds\n",
      " |  \n",
      " |  n\n",
      " |  \n",
      " |  name\n",
      " |  \n",
      " |  nanos\n",
      " |  \n",
      " |  normalize\n",
      " |  \n",
      " |  rule_code\n",
      " |  \n",
      " |  ----------------------------------------------------------------------\n",
      " |  Data and other attributes inherited from BaseOffset:\n",
      " |  \n",
      " |  __array_priority__ = 1000\n",
      "\n"
     ]
    }
   ],
   "source": [
    "help(pd.offsets.BDay) #help on Timestamp"
   ]
  },
  {
   "cell_type": "code",
   "execution_count": 25,
   "metadata": {},
   "outputs": [
    {
     "data": {
      "text/plain": [
       "Timestamp('2023-10-23 00:00:00')"
      ]
     },
     "execution_count": 25,
     "metadata": {},
     "output_type": "execute_result"
    }
   ],
   "source": [
    "day+pd.offsets.BDay()"
   ]
  },
  {
   "cell_type": "code",
   "execution_count": null,
   "metadata": {},
   "outputs": [],
   "source": []
  },
  {
   "cell_type": "code",
   "execution_count": 2,
   "metadata": {},
   "outputs": [
    {
     "data": {
      "text/plain": [
       "Timestamp('2017-01-01 00:00:00')"
      ]
     },
     "execution_count": 2,
     "metadata": {},
     "output_type": "execute_result"
    }
   ],
   "source": [
    "#time series data that associates values with points in time.\n",
    "time_stamp = pd.Timestamp(datetime(2017, 1, 1)) #pd.Timestamp(\"2012-05-01\") #pd.Timestamp(2012, 5, 1)\n",
    "time_stamp"
   ]
  },
  {
   "cell_type": "code",
   "execution_count": 35,
   "metadata": {},
   "outputs": [
    {
     "data": {
      "text/plain": [
       "(Period('2011-01', 'M'), Period('2012-05-01', 'D'))"
      ]
     },
     "execution_count": 35,
     "metadata": {},
     "output_type": "execute_result"
    }
   ],
   "source": [
    "#time series data that associate things like change variables with a time span\n",
    "pd.Period(\"2011-01\"), pd.Period(\"2012-05\", freq=\"D\")"
   ]
  },
  {
   "cell_type": "code",
   "execution_count": 38,
   "metadata": {},
   "outputs": [
    {
     "data": {
      "text/plain": [
       "DatetimeIndex(['2012-05-01', '2012-05-02', '2012-05-03'], dtype='datetime64[ns]', freq=None)"
      ]
     },
     "execution_count": 38,
     "metadata": {},
     "output_type": "execute_result"
    }
   ],
   "source": [
    "dates = [\n",
    "    pd.Timestamp(\"2012-05-01\"),\n",
    "    pd.Timestamp(\"2012-05-02\"),\n",
    "    pd.Timestamp(\"2012-05-03\"),\n",
    "]\n",
    "\n",
    "ts = pd.Series(np.random.randn(3), dates)\n",
    "ts.index"
   ]
  },
  {
   "cell_type": "code",
   "execution_count": 40,
   "metadata": {},
   "outputs": [
    {
     "data": {
      "text/plain": [
       "PeriodIndex(['2012-01', '2012-02', '2012-03'], dtype='period[M]')"
      ]
     },
     "execution_count": 40,
     "metadata": {},
     "output_type": "execute_result"
    }
   ],
   "source": [
    "periods = [pd.Period(\"2012-01\"), pd.Period(\"2012-02\"), pd.Period(\"2012-03\")]\n",
    "ts = pd.Series(np.random.randn(3), periods)\n",
    "ts.index"
   ]
  },
  {
   "cell_type": "code",
   "execution_count": 42,
   "metadata": {},
   "outputs": [
    {
     "data": {
      "text/plain": [
       "(0   2009-07-31\n",
       " 1   2010-01-10\n",
       " 2          NaT\n",
       " dtype: datetime64[ns],\n",
       " DatetimeIndex(['2005-11-23', '2010-12-31'], dtype='datetime64[ns]', freq=None))"
      ]
     },
     "execution_count": 42,
     "metadata": {},
     "output_type": "execute_result"
    }
   ],
   "source": [
    "pd.to_datetime(pd.Series([\"Jul 31, 2009\", \"Jan 10, 2010\", None])), pd.to_datetime([\"2005/11/23\", \"2010/12/31\"]) #converts argument to datetime or timestamp"
   ]
  },
  {
   "cell_type": "code",
   "execution_count": 44,
   "metadata": {},
   "outputs": [
    {
     "data": {
      "text/plain": [
       "(DatetimeIndex(['2012-01-04 10:00:00'], dtype='datetime64[ns]', freq=None),\n",
       " DatetimeIndex(['2012-04-14 10:00:00'], dtype='datetime64[ns]', freq=None))"
      ]
     },
     "execution_count": 44,
     "metadata": {},
     "output_type": "execute_result"
    }
   ],
   "source": [
    "#If you use dates which start with the day first (i.e. European style), you can pass the dayfirst flag:\n",
    "pd.to_datetime([\"04-01-2012 10:00\"], dayfirst=True), pd.to_datetime([\"04-14-2012 10:00\"], dayfirst=True)\n"
   ]
  },
  {
   "cell_type": "markdown",
   "metadata": {},
   "source": [
    "If you pass a single string to to_datetime, it returns a single Timestamp. Timestamp can also accept string input, but it doesn’t accept string parsing options like dayfirst or format, so use to_datetime if these are required."
   ]
  },
  {
   "cell_type": "code",
   "execution_count": 45,
   "metadata": {},
   "outputs": [
    {
     "data": {
      "text/plain": [
       "(Timestamp('2010-11-12 00:00:00'), Timestamp('2010-11-12 00:00:00'))"
      ]
     },
     "execution_count": 45,
     "metadata": {},
     "output_type": "execute_result"
    }
   ],
   "source": [
    "pd.to_datetime(\"2010/11/12\", format=\"%Y/%m/%d\"), pd.to_datetime(\"12-11-2010 00:00\", format=\"%d-%m-%Y %H:%M\")"
   ]
  },
  {
   "cell_type": "code",
   "execution_count": 46,
   "metadata": {},
   "outputs": [
    {
     "data": {
      "text/html": [
       "<div>\n",
       "<style scoped>\n",
       "    .dataframe tbody tr th:only-of-type {\n",
       "        vertical-align: middle;\n",
       "    }\n",
       "\n",
       "    .dataframe tbody tr th {\n",
       "        vertical-align: top;\n",
       "    }\n",
       "\n",
       "    .dataframe thead th {\n",
       "        text-align: right;\n",
       "    }\n",
       "</style>\n",
       "<table border=\"1\" class=\"dataframe\">\n",
       "  <thead>\n",
       "    <tr style=\"text-align: right;\">\n",
       "      <th></th>\n",
       "      <th>year</th>\n",
       "      <th>month</th>\n",
       "      <th>day</th>\n",
       "      <th>hour</th>\n",
       "    </tr>\n",
       "  </thead>\n",
       "  <tbody>\n",
       "    <tr>\n",
       "      <th>0</th>\n",
       "      <td>2015</td>\n",
       "      <td>2</td>\n",
       "      <td>4</td>\n",
       "      <td>2</td>\n",
       "    </tr>\n",
       "    <tr>\n",
       "      <th>1</th>\n",
       "      <td>2016</td>\n",
       "      <td>3</td>\n",
       "      <td>5</td>\n",
       "      <td>3</td>\n",
       "    </tr>\n",
       "  </tbody>\n",
       "</table>\n",
       "</div>"
      ],
      "text/plain": [
       "   year  month  day  hour\n",
       "0  2015      2    4     2\n",
       "1  2016      3    5     3"
      ]
     },
     "execution_count": 46,
     "metadata": {},
     "output_type": "execute_result"
    }
   ],
   "source": [
    "df = pd.DataFrame(\n",
    "    {\"year\": [2015, 2016], \"month\": [2, 3], \"day\": [4, 5], \"hour\": [2, 3]}\n",
    ")\n",
    "df"
   ]
  },
  {
   "cell_type": "code",
   "execution_count": 47,
   "metadata": {},
   "outputs": [
    {
     "data": {
      "text/plain": [
       "0   2015-02-04 02:00:00\n",
       "1   2016-03-05 03:00:00\n",
       "dtype: datetime64[ns]"
      ]
     },
     "execution_count": 47,
     "metadata": {},
     "output_type": "execute_result"
    }
   ],
   "source": [
    "pd.to_datetime(df)"
   ]
  },
  {
   "cell_type": "code",
   "execution_count": 49,
   "metadata": {},
   "outputs": [
    {
     "data": {
      "text/plain": [
       "(Index(['2009/07/31', 'asd'], dtype='object'),\n",
       " DatetimeIndex(['2009-07-31', 'NaT'], dtype='datetime64[ns]', freq=None))"
      ]
     },
     "execution_count": 49,
     "metadata": {},
     "output_type": "execute_result"
    }
   ],
   "source": [
    "# working with invalid dates\n",
    "pd.to_datetime([\"2009/07/31\", \"asd\"], errors=\"ignore\"), pd.to_datetime([\"2009/07/31\", \"asd\"], errors=\"coerce\")"
   ]
  },
  {
   "cell_type": "code",
   "execution_count": 54,
   "metadata": {},
   "outputs": [
    {
     "data": {
      "text/plain": [
       "(DatetimeIndex(['2012-10-08 18:15:05', '2012-10-09 18:15:05',\n",
       "                '2012-10-10 18:15:05', '2012-10-11 18:15:05',\n",
       "                '2012-10-12 18:15:05'],\n",
       "               dtype='datetime64[ns]', freq=None),\n",
       " DatetimeIndex(['2012-10-08 18:15:05.100000', '2012-10-08 18:15:05.200000',\n",
       "                '2012-10-08 18:15:05.300000', '2012-10-08 18:15:05.400000',\n",
       "                '2012-10-08 18:15:05.500000'],\n",
       "               dtype='datetime64[ns]', freq=None))"
      ]
     },
     "execution_count": 54,
     "metadata": {},
     "output_type": "execute_result"
    }
   ],
   "source": [
    "pd.to_datetime([1349720105, 1349806505, 1349892905, 1349979305, 1350065705], unit=\"s\", origin='unix'), pd.to_datetime([1349720105100, 1349720105200, 1349720105300, 1349720105400, 1349720105500],\n",
    "    unit=\"ms\")\n"
   ]
  },
  {
   "cell_type": "code",
   "execution_count": 55,
   "metadata": {},
   "outputs": [
    {
     "data": {
      "text/plain": [
       "Int64Index([1349720105, 1349806505, 1349892905, 1349979305], dtype='int64')"
      ]
     },
     "execution_count": 55,
     "metadata": {},
     "output_type": "execute_result"
    }
   ],
   "source": [
    "stamps = pd.date_range(\"2012-10-08 18:15:05\", periods=4, freq=\"D\")\n",
    "(stamps - pd.Timestamp(\"1970-01-01\")) // pd.Timedelta(\"1s\")"
   ]
  },
  {
   "cell_type": "code",
   "execution_count": 56,
   "metadata": {},
   "outputs": [
    {
     "data": {
      "text/plain": [
       "DatetimeIndex(['1960-01-02', '1960-01-03', '1960-01-04'], dtype='datetime64[ns]', freq=None)"
      ]
     },
     "execution_count": 56,
     "metadata": {},
     "output_type": "execute_result"
    }
   ],
   "source": [
    "pd.to_datetime([1, 2, 3], unit=\"D\", origin=pd.Timestamp(\"1960-01-01\"))"
   ]
  },
  {
   "cell_type": "markdown",
   "metadata": {},
   "source": [
    "If we need timestamps on a regular frequency, we can use the date_range() and bdate_range() functions to create a DatetimeIndex. The default frequency for date_range is a calendar day while the default for bdate_range is a business day:"
   ]
  },
  {
   "cell_type": "code",
   "execution_count": 57,
   "metadata": {},
   "outputs": [
    {
     "data": {
      "text/plain": [
       "DatetimeIndex(['2022-01-01', '2022-01-02', '2022-01-03', '2022-01-04',\n",
       "               '2022-01-05', '2022-01-06', '2022-01-07', '2022-01-08',\n",
       "               '2022-01-09', '2022-01-10',\n",
       "               ...\n",
       "               '2022-12-23', '2022-12-24', '2022-12-25', '2022-12-26',\n",
       "               '2022-12-27', '2022-12-28', '2022-12-29', '2022-12-30',\n",
       "               '2022-12-31', '2023-01-01'],\n",
       "              dtype='datetime64[ns]', length=366, freq='D')"
      ]
     },
     "execution_count": 57,
     "metadata": {},
     "output_type": "execute_result"
    }
   ],
   "source": [
    "start = datetime(2022, 1, 1)\n",
    "end = datetime(2023, 1, 1)\n",
    "index = pd.date_range(start, end)\n",
    "index\n"
   ]
  },
  {
   "cell_type": "code",
   "execution_count": 58,
   "metadata": {},
   "outputs": [
    {
     "data": {
      "text/plain": [
       "DatetimeIndex(['2022-01-03', '2022-01-04', '2022-01-05', '2022-01-06',\n",
       "               '2022-01-07', '2022-01-10', '2022-01-11', '2022-01-12',\n",
       "               '2022-01-13', '2022-01-14',\n",
       "               ...\n",
       "               '2022-12-19', '2022-12-20', '2022-12-21', '2022-12-22',\n",
       "               '2022-12-23', '2022-12-26', '2022-12-27', '2022-12-28',\n",
       "               '2022-12-29', '2022-12-30'],\n",
       "              dtype='datetime64[ns]', length=260, freq='B')"
      ]
     },
     "execution_count": 58,
     "metadata": {},
     "output_type": "execute_result"
    }
   ],
   "source": [
    "index = pd.bdate_range(start, end)\n",
    "index"
   ]
  },
  {
   "cell_type": "code",
   "execution_count": 62,
   "metadata": {},
   "outputs": [
    {
     "data": {
      "text/plain": [
       "DatetimeIndex(['2022-01-31', '2022-02-28', '2022-03-31', '2022-04-29',\n",
       "               '2022-05-31', '2022-06-30', '2022-07-29', '2022-08-31',\n",
       "               '2022-09-30', '2022-10-31', '2022-11-30', '2022-12-30'],\n",
       "              dtype='datetime64[ns]', freq='BM')"
      ]
     },
     "execution_count": 62,
     "metadata": {},
     "output_type": "execute_result"
    }
   ],
   "source": [
    "pd.date_range(start, end, freq=\"BM\") #business month end frequency"
   ]
  },
  {
   "cell_type": "code",
   "execution_count": 60,
   "metadata": {},
   "outputs": [
    {
     "data": {
      "text/plain": [
       "DatetimeIndex(['2022-01-02', '2022-01-09', '2022-01-16', '2022-01-23',\n",
       "               '2022-01-30', '2022-02-06', '2022-02-13', '2022-02-20',\n",
       "               '2022-02-27', '2022-03-06', '2022-03-13', '2022-03-20',\n",
       "               '2022-03-27', '2022-04-03', '2022-04-10', '2022-04-17',\n",
       "               '2022-04-24', '2022-05-01', '2022-05-08', '2022-05-15',\n",
       "               '2022-05-22', '2022-05-29', '2022-06-05', '2022-06-12',\n",
       "               '2022-06-19', '2022-06-26', '2022-07-03', '2022-07-10',\n",
       "               '2022-07-17', '2022-07-24', '2022-07-31', '2022-08-07',\n",
       "               '2022-08-14', '2022-08-21', '2022-08-28', '2022-09-04',\n",
       "               '2022-09-11', '2022-09-18', '2022-09-25', '2022-10-02',\n",
       "               '2022-10-09', '2022-10-16', '2022-10-23', '2022-10-30',\n",
       "               '2022-11-06', '2022-11-13', '2022-11-20', '2022-11-27',\n",
       "               '2022-12-04', '2022-12-11', '2022-12-18', '2022-12-25',\n",
       "               '2023-01-01'],\n",
       "              dtype='datetime64[ns]', freq='W-SUN')"
      ]
     },
     "execution_count": 60,
     "metadata": {},
     "output_type": "execute_result"
    }
   ],
   "source": [
    "pd.date_range(start, end, freq=\"W\") #weekly frequency"
   ]
  },
  {
   "cell_type": "code",
   "execution_count": 63,
   "metadata": {},
   "outputs": [
    {
     "data": {
      "text/plain": [
       "DatetimeIndex(['2022-12-05', '2022-12-06', '2022-12-07', '2022-12-08',\n",
       "               '2022-12-09', '2022-12-12', '2022-12-13', '2022-12-14',\n",
       "               '2022-12-15', '2022-12-16', '2022-12-19', '2022-12-20',\n",
       "               '2022-12-21', '2022-12-22', '2022-12-23', '2022-12-26',\n",
       "               '2022-12-27', '2022-12-28', '2022-12-29', '2022-12-30'],\n",
       "              dtype='datetime64[ns]', freq='B')"
      ]
     },
     "execution_count": 63,
     "metadata": {},
     "output_type": "execute_result"
    }
   ],
   "source": [
    "pd.bdate_range(end=end, periods=20) #business day frequency"
   ]
  },
  {
   "cell_type": "code",
   "execution_count": 64,
   "metadata": {},
   "outputs": [
    {
     "data": {
      "text/plain": [
       "DatetimeIndex(['2022-01-03', '2022-01-04', '2022-01-05', '2022-01-06',\n",
       "               '2022-01-07', '2022-01-10', '2022-01-11', '2022-01-12',\n",
       "               '2022-01-13', '2022-01-14', '2022-01-17', '2022-01-18',\n",
       "               '2022-01-19', '2022-01-20', '2022-01-21', '2022-01-24',\n",
       "               '2022-01-25', '2022-01-26', '2022-01-27', '2022-01-28'],\n",
       "              dtype='datetime64[ns]', freq='B')"
      ]
     },
     "execution_count": 64,
     "metadata": {},
     "output_type": "execute_result"
    }
   ],
   "source": [
    "pd.bdate_range(start=start, periods=20)"
   ]
  },
  {
   "cell_type": "code",
   "execution_count": null,
   "metadata": {},
   "outputs": [],
   "source": []
  }
 ],
 "metadata": {
  "kernelspec": {
   "display_name": "Python 3",
   "language": "python",
   "name": "python3"
  },
  "language_info": {
   "codemirror_mode": {
    "name": "ipython",
    "version": 3
   },
   "file_extension": ".py",
   "mimetype": "text/x-python",
   "name": "python",
   "nbconvert_exporter": "python",
   "pygments_lexer": "ipython3",
   "version": "3.9.13"
  }
 },
 "nbformat": 4,
 "nbformat_minor": 2
}
